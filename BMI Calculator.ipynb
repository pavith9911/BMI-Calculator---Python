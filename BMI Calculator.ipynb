{
 "cells": [
  {
   "cell_type": "code",
   "execution_count": 13,
   "id": "6680c57a-12f2-4c59-82fa-29beab5bd691",
   "metadata": {},
   "outputs": [
    {
     "name": "stdin",
     "output_type": "stream",
     "text": [
      "Enter your name:  Pavith\n",
      "Enter your weight in pounds:  190\n",
      "Enter your height in inches:  69\n"
     ]
    },
    {
     "name": "stdout",
     "output_type": "stream",
     "text": [
      "28.0550304557866\n",
      "Pavith, you are overweight.\n"
     ]
    }
   ],
   "source": [
    "name = input(\"Enter your name: \")\n",
    "\n",
    "weight = int(input(\"Enter your weight in pounds: \"))\n",
    "\n",
    "height = int(input(\"Enter your height in inches: \"))\n",
    "\n",
    "BMI = (weight * 703) / (height * height)\n",
    "\n",
    "print(BMI)\n",
    "\n",
    "if BMI>0:\n",
    "    if(BMI<18.5):\n",
    "        print(name+\", you are underweight.\")\n",
    "    elif(BMI<=24.9):\n",
    "        print(name+\", you are normal weight.\")\n",
    "    elif(BMI<29.9):\n",
    "        print(name+\", you are overweight.\")\n",
    "    elif(BMI<34.9):\n",
    "        print(name+\", you are obese.\")\n",
    "    elif(BMI<39.9):\n",
    "        print(name+\", you are severely obese.\")\n",
    "    else:\n",
    "        print(name+\", you are morbidly obese.\")\n",
    "else:\n",
    "    print(\"Enter valid innput\")\n"
   ]
  },
  {
   "cell_type": "code",
   "execution_count": 3,
   "id": "921c4406-db8d-436f-82d8-40d33ce368eb",
   "metadata": {},
   "outputs": [
    {
     "name": "stdout",
     "output_type": "stream",
     "text": [
      "150\n"
     ]
    }
   ],
   "source": []
  },
  {
   "cell_type": "code",
   "execution_count": null,
   "id": "33ed326c-86b6-4969-b4a9-7e49f534dc39",
   "metadata": {},
   "outputs": [],
   "source": []
  },
  {
   "cell_type": "code",
   "execution_count": null,
   "id": "b0ba9d34-b2b4-4614-8b72-ebd6f0aec6ad",
   "metadata": {},
   "outputs": [],
   "source": []
  },
  {
   "cell_type": "code",
   "execution_count": null,
   "id": "33f93d83-e505-4148-a3d0-94988a7039a4",
   "metadata": {},
   "outputs": [],
   "source": [
    "#BMI = (weight in pounds x 703) / (height in inches x height in inches)"
   ]
  },
  {
   "cell_type": "code",
   "execution_count": null,
   "id": "87c878c0-5194-4acc-b490-6684f0df6453",
   "metadata": {},
   "outputs": [],
   "source": [
    "print(weight)"
   ]
  },
  {
   "cell_type": "code",
   "execution_count": null,
   "id": "c0ff1754-d628-42f5-a6fe-0e3bbb0081b7",
   "metadata": {},
   "outputs": [],
   "source": [
    "Under 18.5\tUnderweight\tMinimal\n",
    "18.5 - 24.9\tNormal Weight\tMinimal\n",
    "25 - 29.9\tOverweight\tIncreased\n",
    "30 - 34.9\tObese\tHigh\n",
    "35 - 39.9\tSeverely Obese\tVery High\n",
    "40 and over\tMorbidly Obese\tExtremely High"
   ]
  },
  {
   "cell_type": "code",
   "execution_count": 12,
   "id": "2e90cf07-0328-48b5-8a9e-0dc451dab220",
   "metadata": {},
   "outputs": [
    {
     "name": "stdout",
     "output_type": "stream",
     "text": [
      "Pavith, you are overweight.\n"
     ]
    }
   ],
   "source": [
    "if BMI>0:\n",
    "    if(BMI<18.5):\n",
    "        print(name+\", you are underweight.\")\n",
    "    elif(BMI<=24.9):\n",
    "        print(name+\", you are normal weight.\")\n",
    "    elif(BMI<29.9):\n",
    "        print(name+\", you are overweight.\")\n",
    "    elif(BMI<34.9):\n",
    "        print(name+\", you are obese.\")\n",
    "    elif(BMI<39.9):\n",
    "        print(name+\", you are severely obese.\")\n",
    "    else:\n",
    "        print(name+\", you are morbidly obese.\")\n",
    "else:\n",
    "    print(\"Enter valid innput\")"
   ]
  },
  {
   "cell_type": "code",
   "execution_count": null,
   "id": "8d6c9761-63dd-4f41-9deb-b4b7750271e1",
   "metadata": {},
   "outputs": [],
   "source": []
  },
  {
   "cell_type": "code",
   "execution_count": null,
   "id": "8fd36f56-06f8-4414-b058-083667bf0186",
   "metadata": {},
   "outputs": [],
   "source": []
  },
  {
   "cell_type": "code",
   "execution_count": null,
   "id": "f98839af-34e4-4c49-8c83-733222266143",
   "metadata": {},
   "outputs": [],
   "source": []
  },
  {
   "cell_type": "code",
   "execution_count": null,
   "id": "1ba6c409-e663-4352-8d09-cabade1cecb1",
   "metadata": {},
   "outputs": [],
   "source": []
  },
  {
   "cell_type": "code",
   "execution_count": null,
   "id": "f80c6c73-876a-43f0-b78e-33be4f1d9f62",
   "metadata": {},
   "outputs": [],
   "source": []
  },
  {
   "cell_type": "code",
   "execution_count": null,
   "id": "321bd2ac-0659-46e5-b0c3-b7a6fb367628",
   "metadata": {},
   "outputs": [],
   "source": []
  },
  {
   "cell_type": "code",
   "execution_count": null,
   "id": "e0fb9d11-2b1d-4fff-b50d-e75a20bebf1a",
   "metadata": {},
   "outputs": [],
   "source": []
  },
  {
   "cell_type": "code",
   "execution_count": null,
   "id": "b9260c20-623a-426a-9659-08464fa70976",
   "metadata": {},
   "outputs": [],
   "source": []
  }
 ],
 "metadata": {
  "kernelspec": {
   "display_name": "Python [conda env:base] *",
   "language": "python",
   "name": "conda-base-py"
  },
  "language_info": {
   "codemirror_mode": {
    "name": "ipython",
    "version": 3
   },
   "file_extension": ".py",
   "mimetype": "text/x-python",
   "name": "python",
   "nbconvert_exporter": "python",
   "pygments_lexer": "ipython3",
   "version": "3.12.7"
  }
 },
 "nbformat": 4,
 "nbformat_minor": 5
}
